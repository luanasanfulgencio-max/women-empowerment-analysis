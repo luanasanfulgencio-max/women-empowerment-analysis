{
 "cells": [
  {
   "cell_type": "markdown",
   "id": "b1148522",
   "metadata": {},
   "source": [
    "# Projeto: Women Empowerment Index\n",
    "Este notebook realiza a análise exploratória do dataset Women Empowerment Index.\n",
    "Objetivos:\n",
    "- Entender estrutura e qualidade dos dados\n",
    "- Limpar inconsistências\n",
    "- Extrair insights iniciais\n"
   ]
  },
  {
   "cell_type": "code",
   "execution_count": 6,
   "id": "e72969bb",
   "metadata": {},
   "outputs": [],
   "source": [
    "# Importar bibliotecas\n",
    "import pandas as pd"
   ]
  },
  {
   "cell_type": "markdown",
   "id": "99e813b7",
   "metadata": {},
   "source": [
    "## Estrutura inicial dos dados\n",
    "Verificando dimensões, colunas e tipos para entender a base."
   ]
  },
  {
   "cell_type": "code",
   "execution_count": 7,
   "id": "7453f758",
   "metadata": {},
   "outputs": [],
   "source": [
    "# Leitura dos dados\n",
    "\n",
    "df = pd.read_csv(\"women_empowerment_index.csv\")"
   ]
  },
  {
   "cell_type": "code",
   "execution_count": 10,
   "id": "eefa0b50",
   "metadata": {},
   "outputs": [
    {
     "name": "stdout",
     "output_type": "stream",
     "text": [
      "<class 'pandas.core.frame.DataFrame'>\n",
      "RangeIndex: 114 entries, 0 to 113\n",
      "Data columns (total 7 columns):\n",
      " #   Column                                    Non-Null Count  Dtype  \n",
      "---  ------                                    --------------  -----  \n",
      " 0   Country                                   114 non-null    object \n",
      " 1   Women's Empowerment Index (WEI) - 2022    114 non-null    float64\n",
      " 2   Women's Empowerment Group - 2022          114 non-null    object \n",
      " 3   Global Gender Parity Index (GGPI) - 2022  114 non-null    float64\n",
      " 4   Gender Parity Group - 2022                114 non-null    object \n",
      " 5   Human Development Group - 2021            114 non-null    object \n",
      " 6   Sustainable Development Goal regions      114 non-null    object \n",
      "dtypes: float64(2), object(5)\n",
      "memory usage: 6.4+ KB\n"
     ]
    }
   ],
   "source": [
    "df.shape\n",
    "df.info(\"women_empowerment_index.csv\")"
   ]
  },
  {
   "cell_type": "code",
   "execution_count": 11,
   "id": "6988179b",
   "metadata": {},
   "outputs": [
    {
     "name": "stdout",
     "output_type": "stream",
     "text": [
      "Linhas duplicadas: 0\n",
      "\n",
      "Coluna: Country\n",
      "['Australia' 'Belgium' 'Denmark' 'Iceland' 'Norway' 'Sweden' 'Austria'\n",
      " 'Bulgaria' 'Canada' 'Croatia' 'Czechia' 'Estonia' 'Finland' 'France'\n",
      " 'Germany' 'Hungary' 'Ireland' 'Italy' 'Latvia' 'Lithuania' 'Luxembourg'\n",
      " 'Netherlands' 'Poland' 'Portugal' 'Serbia' 'Singapore' 'Slovenia' 'Spain'\n",
      " 'Switzerland' 'United Kingdom' 'United States' 'Albania' 'Armenia'\n",
      " 'Bolivia (Plurinational State of)' 'Brazil' 'Chile' 'China' 'Costa Rica'\n",
      " 'Cyprus' 'Dominican Republic' 'Ecuador' 'Greece' 'Israel' 'Jamaica'\n",
      " 'Japan' 'Malta' 'Mauritius' 'Moldova (Republic of)' 'Mongolia'\n",
      " 'Montenegro' 'Namibia' 'North Macedonia' 'Peru' 'Philippines' 'Romania'\n",
      " 'Slovakia' 'South Africa' 'Thailand' 'United Arab Emirates' 'Uruguay'\n",
      " 'Viet Nam' 'Bangladesh' 'Belize' 'Benin' 'Bhutan'\n",
      " 'Bosnia and Herzegovina' 'Botswana' 'Burkina Faso' 'Burundi' 'Cambodia'\n",
      " 'Cameroon' 'Colombia' 'Congo (Democratic Republic of the)'\n",
      " \"Côte d'Ivoire\" 'Egypt' 'El Salvador' 'Gambia' 'Ghana' 'Guatemala'\n",
      " 'Guinea' 'Honduras' 'India' 'Indonesia' 'Iran (Islamic Republic of)'\n",
      " 'Iraq' 'Jordan' 'Kenya' \"Lao People's Democratic Republic\" 'Lebanon'\n",
      " 'Lesotho' 'Liberia' 'Malawi' 'Maldives' 'Mali' 'Mexico' 'Myanmar' 'Nepal'\n",
      " 'Niger' 'Nigeria' 'Pakistan' 'Panama' 'Paraguay' 'Rwanda' 'Senegal'\n",
      " 'Sierra Leone' 'Sri Lanka' 'Tanzania (United Republic of)' 'Togo'\n",
      " 'Tunisia' 'Türkiye' 'Uganda' 'Yemen' 'Zambia' 'Zimbabwe']\n",
      "\n",
      "Coluna: WE_Group_2022\n",
      "['High' 'Upper-middle' 'Lower-middle' 'Low']\n",
      "\n",
      "Coluna: Gender_Parity_Group_2022\n",
      "['High' 'Upper-middle' 'Lower-middle' 'Low']\n",
      "\n",
      "Coluna: HD_Group_2021\n",
      "['Very high' 'High' 'Medium' 'Low']\n",
      "\n",
      "Coluna: SDG_Region\n",
      "['Australia and New Zealand' 'Europe and Northern America'\n",
      " 'Eastern Asia and South-Eastern Asia' 'Northern Africa and Western Asia'\n",
      " 'Latin America and the Caribbean' 'Sub-Saharan Africa'\n",
      " 'Central Asia and Southern Asia']\n"
     ]
    }
   ],
   "source": [
    "# 1) Renomear colunas para nomes mais curtos e sem espaços\n",
    "df = df.rename(columns={\n",
    "    \"Women's Empowerment Index (WEI) - 2022\": \"WEI_2022\",\n",
    "    \"Women's Empowerment Group - 2022\": \"WE_Group_2022\",\n",
    "    \"Global Gender Parity Index (GGPI) - 2022\": \"GGPI_2022\",\n",
    "    \"Gender Parity Group - 2022\": \"Gender_Parity_Group_2022\",\n",
    "    \"Human Development Group - 2021\": \"HD_Group_2021\",\n",
    "    \"Sustainable Development Goal regions\": \"SDG_Region\"\n",
    "})\n",
    "\n",
    "# 2) Checar duplicados\n",
    "print(\"Linhas duplicadas:\", df.duplicated().sum())\n",
    "\n",
    "# 3) Ver valores únicos por coluna categórica\n",
    "for col in ['Country','WE_Group_2022','Gender_Parity_Group_2022','HD_Group_2021','SDG_Region']:\n",
    "    print(f\"\\nColuna: {col}\")\n",
    "    print(df[col].unique())\n"
   ]
  },
  {
   "cell_type": "markdown",
   "id": "0ebf8d68",
   "metadata": {},
   "source": [
    "## Limpeza e padronização\n",
    "- Renomeamos as colunas para nomes curtos (ex.: `WEI_2022`) para facilitar queries e gráficos.\n",
    "- Verificamos duplicados e analisamos valores únicos das colunas categóricas.\n"
   ]
  },
  {
   "cell_type": "code",
   "execution_count": 13,
   "id": "d0fd20c4",
   "metadata": {},
   "outputs": [
    {
     "name": "stdout",
     "output_type": "stream",
     "text": [
      "Linhas duplicadas: 0\n"
     ]
    }
   ],
   "source": [
    "df = df.rename(columns={\n",
    "    \"Women's Empowerment Index (WEI) - 2022\": \"WEI_2022\",\n",
    "    \"Women's Empowerment Group - 2022\": \"WE_Group_2022\",\n",
    "    \"Global Gender Parity Index (GGPI) - 2022\": \"GGPI_2022\",\n",
    "    \"Gender Parity Group - 2022\": \"Gender_Parity_Group_2022\",\n",
    "    \"Human Development Group - 2021\": \"HD_Group_2021\",\n",
    "    \"Sustainable Development Goal regions\": \"SDG_Region\"\n",
    "})\n",
    "\n",
    "print(\"Linhas duplicadas:\", df.duplicated().sum())\n"
   ]
  },
  {
   "cell_type": "markdown",
   "id": "4c9b46b9",
   "metadata": {},
   "source": [
    "# 📊 Análise Exploratória – Women Empowerment Index 2022\n",
    "\n",
    "Nesta etapa vamos explorar o conjunto de dados já limpo para:\n",
    "- Entender a distribuição dos índices numéricos (WEI e GGPI).\n",
    "- Identificar países e regiões com maiores e menores valores.\n",
    "- Investigar padrões por grupo de desenvolvimento humano e região.\n",
    "- Avaliar a relação entre o Empowerment Index (WEI) e o Gender Parity Index (GGPI).\n",
    "\n",
    "---\n",
    "\n",
    "## 1️⃣ Estatísticas Descritivas\n",
    "\n",
    "Objetivo: verificar médias, medianas, mínimos e máximos para ter uma visão geral da variação dos índices.\n"
   ]
  },
  {
   "cell_type": "code",
   "execution_count": 14,
   "id": "4009f34f",
   "metadata": {},
   "outputs": [
    {
     "data": {
      "text/html": [
       "<div>\n",
       "<style scoped>\n",
       "    .dataframe tbody tr th:only-of-type {\n",
       "        vertical-align: middle;\n",
       "    }\n",
       "\n",
       "    .dataframe tbody tr th {\n",
       "        vertical-align: top;\n",
       "    }\n",
       "\n",
       "    .dataframe thead th {\n",
       "        text-align: right;\n",
       "    }\n",
       "</style>\n",
       "<table border=\"1\" class=\"dataframe\">\n",
       "  <thead>\n",
       "    <tr style=\"text-align: right;\">\n",
       "      <th></th>\n",
       "      <th>WEI_2022</th>\n",
       "      <th>GGPI_2022</th>\n",
       "    </tr>\n",
       "  </thead>\n",
       "  <tbody>\n",
       "    <tr>\n",
       "      <th>count</th>\n",
       "      <td>114.000000</td>\n",
       "      <td>114.000000</td>\n",
       "    </tr>\n",
       "    <tr>\n",
       "      <th>mean</th>\n",
       "      <td>0.607316</td>\n",
       "      <td>0.705237</td>\n",
       "    </tr>\n",
       "    <tr>\n",
       "      <th>std</th>\n",
       "      <td>0.134632</td>\n",
       "      <td>0.128897</td>\n",
       "    </tr>\n",
       "    <tr>\n",
       "      <th>min</th>\n",
       "      <td>0.141000</td>\n",
       "      <td>0.141000</td>\n",
       "    </tr>\n",
       "    <tr>\n",
       "      <th>25%</th>\n",
       "      <td>0.518000</td>\n",
       "      <td>0.622250</td>\n",
       "    </tr>\n",
       "    <tr>\n",
       "      <th>50%</th>\n",
       "      <td>0.615000</td>\n",
       "      <td>0.726500</td>\n",
       "    </tr>\n",
       "    <tr>\n",
       "      <th>75%</th>\n",
       "      <td>0.705500</td>\n",
       "      <td>0.802000</td>\n",
       "    </tr>\n",
       "    <tr>\n",
       "      <th>max</th>\n",
       "      <td>0.828000</td>\n",
       "      <td>0.925000</td>\n",
       "    </tr>\n",
       "  </tbody>\n",
       "</table>\n",
       "</div>"
      ],
      "text/plain": [
       "         WEI_2022   GGPI_2022\n",
       "count  114.000000  114.000000\n",
       "mean     0.607316    0.705237\n",
       "std      0.134632    0.128897\n",
       "min      0.141000    0.141000\n",
       "25%      0.518000    0.622250\n",
       "50%      0.615000    0.726500\n",
       "75%      0.705500    0.802000\n",
       "max      0.828000    0.925000"
      ]
     },
     "execution_count": 14,
     "metadata": {},
     "output_type": "execute_result"
    }
   ],
   "source": [
    "df[['WEI_2022','GGPI_2022']].describe()"
   ]
  },
  {
   "cell_type": "markdown",
   "id": "f6e9f12d",
   "metadata": {},
   "source": [
    "## 2️⃣ Ranking dos Países\n",
    "\n",
    "Objetivo: identificar os 10 países com **maiores** e **menores** índices de empoderamento feminino (WEI).\n"
   ]
  },
  {
   "cell_type": "code",
   "execution_count": 15,
   "id": "425f2a4c",
   "metadata": {},
   "outputs": [
    {
     "data": {
      "text/html": [
       "<div>\n",
       "<style scoped>\n",
       "    .dataframe tbody tr th:only-of-type {\n",
       "        vertical-align: middle;\n",
       "    }\n",
       "\n",
       "    .dataframe tbody tr th {\n",
       "        vertical-align: top;\n",
       "    }\n",
       "\n",
       "    .dataframe thead th {\n",
       "        text-align: right;\n",
       "    }\n",
       "</style>\n",
       "<table border=\"1\" class=\"dataframe\">\n",
       "  <thead>\n",
       "    <tr style=\"text-align: right;\">\n",
       "      <th></th>\n",
       "      <th>Country</th>\n",
       "      <th>WEI_2022</th>\n",
       "    </tr>\n",
       "  </thead>\n",
       "  <tbody>\n",
       "    <tr>\n",
       "      <th>111</th>\n",
       "      <td>Yemen</td>\n",
       "      <td>0.141</td>\n",
       "    </tr>\n",
       "    <tr>\n",
       "      <th>97</th>\n",
       "      <td>Niger</td>\n",
       "      <td>0.307</td>\n",
       "    </tr>\n",
       "    <tr>\n",
       "      <th>99</th>\n",
       "      <td>Pakistan</td>\n",
       "      <td>0.337</td>\n",
       "    </tr>\n",
       "    <tr>\n",
       "      <th>84</th>\n",
       "      <td>Iraq</td>\n",
       "      <td>0.363</td>\n",
       "    </tr>\n",
       "    <tr>\n",
       "      <th>88</th>\n",
       "      <td>Lebanon</td>\n",
       "      <td>0.372</td>\n",
       "    </tr>\n",
       "    <tr>\n",
       "      <th>72</th>\n",
       "      <td>Congo (Democratic Republic of the)</td>\n",
       "      <td>0.399</td>\n",
       "    </tr>\n",
       "    <tr>\n",
       "      <th>79</th>\n",
       "      <td>Guinea</td>\n",
       "      <td>0.400</td>\n",
       "    </tr>\n",
       "    <tr>\n",
       "      <th>93</th>\n",
       "      <td>Mali</td>\n",
       "      <td>0.400</td>\n",
       "    </tr>\n",
       "    <tr>\n",
       "      <th>63</th>\n",
       "      <td>Benin</td>\n",
       "      <td>0.418</td>\n",
       "    </tr>\n",
       "    <tr>\n",
       "      <th>76</th>\n",
       "      <td>Gambia</td>\n",
       "      <td>0.427</td>\n",
       "    </tr>\n",
       "  </tbody>\n",
       "</table>\n",
       "</div>"
      ],
      "text/plain": [
       "                                Country  WEI_2022\n",
       "111                               Yemen     0.141\n",
       "97                                Niger     0.307\n",
       "99                             Pakistan     0.337\n",
       "84                                 Iraq     0.363\n",
       "88                              Lebanon     0.372\n",
       "72   Congo (Democratic Republic of the)     0.399\n",
       "79                               Guinea     0.400\n",
       "93                                 Mali     0.400\n",
       "63                                Benin     0.418\n",
       "76                               Gambia     0.427"
      ]
     },
     "execution_count": 15,
     "metadata": {},
     "output_type": "execute_result"
    }
   ],
   "source": [
    "# Top 10\n",
    "df.nlargest(10, 'WEI_2022')[['Country','WEI_2022']]\n",
    "\n",
    "# Bottom 10\n",
    "df.nsmallest(10, 'WEI_2022')[['Country','WEI_2022']]\n"
   ]
  },
  {
   "cell_type": "markdown",
   "id": "bdcd2f48",
   "metadata": {},
   "source": [
    "## 3️⃣ Comparações por Grupos e Regiões\n",
    "\n",
    "Objetivo: descobrir quais regiões e grupos de desenvolvimento humano apresentam as maiores médias do índice.\n"
   ]
  },
  {
   "cell_type": "code",
   "execution_count": 16,
   "id": "30777681",
   "metadata": {},
   "outputs": [
    {
     "data": {
      "text/plain": [
       "HD_Group_2021\n",
       "Very high    0.726261\n",
       "High         0.595808\n",
       "Medium       0.528864\n",
       "Low          0.435000\n",
       "Name: WEI_2022, dtype: float64"
      ]
     },
     "execution_count": 16,
     "metadata": {},
     "output_type": "execute_result"
    }
   ],
   "source": [
    "# Média por região (Sustainable Development Goal)\n",
    "df.groupby('SDG_Region')['WEI_2022'].mean().sort_values(ascending=False)\n",
    "\n",
    "# Média por grupo de Desenvolvimento Humano\n",
    "df.groupby('HD_Group_2021')['WEI_2022'].mean().sort_values(ascending=False)\n"
   ]
  },
  {
   "cell_type": "markdown",
   "id": "8b8536e2",
   "metadata": {},
   "source": [
    "## 4️⃣ Correlação entre WEI e GGPI\n",
    "\n",
    "Objetivo: analisar a relação entre o Women Empowerment Index e o Global Gender Parity Index.\n"
   ]
  },
  {
   "cell_type": "code",
   "execution_count": 17,
   "id": "8368845c",
   "metadata": {},
   "outputs": [
    {
     "data": {
      "text/html": [
       "<div>\n",
       "<style scoped>\n",
       "    .dataframe tbody tr th:only-of-type {\n",
       "        vertical-align: middle;\n",
       "    }\n",
       "\n",
       "    .dataframe tbody tr th {\n",
       "        vertical-align: top;\n",
       "    }\n",
       "\n",
       "    .dataframe thead th {\n",
       "        text-align: right;\n",
       "    }\n",
       "</style>\n",
       "<table border=\"1\" class=\"dataframe\">\n",
       "  <thead>\n",
       "    <tr style=\"text-align: right;\">\n",
       "      <th></th>\n",
       "      <th>WEI_2022</th>\n",
       "      <th>GGPI_2022</th>\n",
       "    </tr>\n",
       "  </thead>\n",
       "  <tbody>\n",
       "    <tr>\n",
       "      <th>WEI_2022</th>\n",
       "      <td>1.000000</td>\n",
       "      <td>0.839409</td>\n",
       "    </tr>\n",
       "    <tr>\n",
       "      <th>GGPI_2022</th>\n",
       "      <td>0.839409</td>\n",
       "      <td>1.000000</td>\n",
       "    </tr>\n",
       "  </tbody>\n",
       "</table>\n",
       "</div>"
      ],
      "text/plain": [
       "           WEI_2022  GGPI_2022\n",
       "WEI_2022   1.000000   0.839409\n",
       "GGPI_2022  0.839409   1.000000"
      ]
     },
     "execution_count": 17,
     "metadata": {},
     "output_type": "execute_result"
    }
   ],
   "source": [
    "df[['WEI_2022','GGPI_2022']].corr()\n"
   ]
  },
  {
   "cell_type": "markdown",
   "id": "72c4b9ad",
   "metadata": {},
   "source": [
    "## 5️⃣ Visualizações Rápidas\n",
    "\n",
    "Objetivo: criar gráficos simples para observar padrões e dispersões.\n"
   ]
  },
  {
   "cell_type": "markdown",
   "id": "f9a0e88c",
   "metadata": {},
   "source": [
    "## 🌍 Distribuição Global do Women Empowerment Index – 2022\n",
    "\n",
    "O mapa abaixo apresenta a variação do **Women Empowerment Index (WEI)** em 114 países.  \n",
    "Quanto mais escura a cor, maior o índice de empoderamento feminino em 2022.\n"
   ]
  },
  {
   "cell_type": "code",
   "execution_count": 21,
   "id": "968eced4",
   "metadata": {},
   "outputs": [
    {
     "data": {
      "application/vnd.plotly.v1+json": {
       "config": {
        "plotlyServerURL": "https://plot.ly"
       },
       "data": [
        {
         "coloraxis": "coloraxis",
         "geo": "geo",
         "hovertemplate": "Country=%{location}<br>WEI_2022=%{z}<extra></extra>",
         "locationmode": "country names",
         "locations": [
          "Australia",
          "Belgium",
          "Denmark",
          "Iceland",
          "Norway",
          "Sweden",
          "Austria",
          "Bulgaria",
          "Canada",
          "Croatia",
          "Czechia",
          "Estonia",
          "Finland",
          "France",
          "Germany",
          "Hungary",
          "Ireland",
          "Italy",
          "Latvia",
          "Lithuania",
          "Luxembourg",
          "Netherlands",
          "Poland",
          "Portugal",
          "Serbia",
          "Singapore",
          "Slovenia",
          "Spain",
          "Switzerland",
          "United Kingdom",
          "United States",
          "Albania",
          "Armenia",
          "Bolivia (Plurinational State of)",
          "Brazil",
          "Chile",
          "China",
          "Costa Rica",
          "Cyprus",
          "Dominican Republic",
          "Ecuador",
          "Greece",
          "Israel",
          "Jamaica",
          "Japan",
          "Malta",
          "Mauritius",
          "Moldova (Republic of)",
          "Mongolia",
          "Montenegro",
          "Namibia",
          "North Macedonia",
          "Peru",
          "Philippines",
          "Romania",
          "Slovakia",
          "South Africa",
          "Thailand",
          "United Arab Emirates",
          "Uruguay",
          "Viet Nam",
          "Bangladesh",
          "Belize",
          "Benin",
          "Bhutan",
          "Bosnia and Herzegovina",
          "Botswana",
          "Burkina Faso",
          "Burundi",
          "Cambodia",
          "Cameroon",
          "Colombia",
          "Congo (Democratic Republic of the)",
          "Côte d'Ivoire",
          "Egypt",
          "El Salvador",
          "Gambia",
          "Ghana",
          "Guatemala",
          "Guinea",
          "Honduras",
          "India",
          "Indonesia",
          "Iran (Islamic Republic of)",
          "Iraq",
          "Jordan",
          "Kenya",
          "Lao People's Democratic Republic",
          "Lebanon",
          "Lesotho",
          "Liberia",
          "Malawi",
          "Maldives",
          "Mali",
          "Mexico",
          "Myanmar",
          "Nepal",
          "Niger",
          "Nigeria",
          "Pakistan",
          "Panama",
          "Paraguay",
          "Rwanda",
          "Senegal",
          "Sierra Leone",
          "Sri Lanka",
          "Tanzania (United Republic of)",
          "Togo",
          "Tunisia",
          "Türkiye",
          "Uganda",
          "Yemen",
          "Zambia",
          "Zimbabwe"
         ],
         "name": "",
         "type": "choropleth",
         "z": [
          0.805,
          0.801,
          0.804,
          0.816,
          0.802,
          0.828,
          0.778,
          0.701,
          0.783,
          0.73,
          0.707,
          0.75,
          0.787,
          0.792,
          0.762,
          0.707,
          0.759,
          0.7,
          0.782,
          0.756,
          0.737,
          0.778,
          0.757,
          0.749,
          0.72,
          0.757,
          0.791,
          0.773,
          0.786,
          0.778,
          0.752,
          0.61,
          0.656,
          0.632,
          0.637,
          0.699,
          0.664,
          0.677,
          0.649,
          0.603,
          0.63,
          0.679,
          0.694,
          0.694,
          0.651,
          0.696,
          0.613,
          0.686,
          0.67,
          0.64,
          0.617,
          0.682,
          0.64,
          0.618,
          0.623,
          0.696,
          0.68,
          0.635,
          0.68,
          0.688,
          0.612,
          0.443,
          0.569,
          0.418,
          0.562,
          0.597,
          0.56,
          0.443,
          0.53,
          0.542,
          0.52,
          0.592,
          0.399,
          0.455,
          0.466,
          0.542,
          0.427,
          0.524,
          0.482,
          0.4,
          0.544,
          0.52,
          0.568,
          0.454,
          0.363,
          0.488,
          0.591,
          0.582,
          0.372,
          0.531,
          0.435,
          0.464,
          0.518,
          0.4,
          0.598,
          0.518,
          0.491,
          0.307,
          0.444,
          0.337,
          0.563,
          0.593,
          0.565,
          0.511,
          0.438,
          0.568,
          0.51,
          0.537,
          0.512,
          0.498,
          0.463,
          0.141,
          0.441,
          0.519
         ]
        }
       ],
       "layout": {
        "coloraxis": {
         "colorbar": {
          "title": {
           "text": "WEI_2022"
          }
         },
         "colorscale": [
          [
           0,
           "rgb(255,255,217)"
          ],
          [
           0.125,
           "rgb(237,248,177)"
          ],
          [
           0.25,
           "rgb(199,233,180)"
          ],
          [
           0.375,
           "rgb(127,205,187)"
          ],
          [
           0.5,
           "rgb(65,182,196)"
          ],
          [
           0.625,
           "rgb(29,145,192)"
          ],
          [
           0.75,
           "rgb(34,94,168)"
          ],
          [
           0.875,
           "rgb(37,52,148)"
          ],
          [
           1,
           "rgb(8,29,88)"
          ]
         ]
        },
        "geo": {
         "center": {},
         "domain": {
          "x": [
           0,
           1
          ],
          "y": [
           0,
           1
          ]
         }
        },
        "legend": {
         "tracegroupgap": 0
        },
        "template": {
         "data": {
          "bar": [
           {
            "error_x": {
             "color": "#2a3f5f"
            },
            "error_y": {
             "color": "#2a3f5f"
            },
            "marker": {
             "line": {
              "color": "#E5ECF6",
              "width": 0.5
             },
             "pattern": {
              "fillmode": "overlay",
              "size": 10,
              "solidity": 0.2
             }
            },
            "type": "bar"
           }
          ],
          "barpolar": [
           {
            "marker": {
             "line": {
              "color": "#E5ECF6",
              "width": 0.5
             },
             "pattern": {
              "fillmode": "overlay",
              "size": 10,
              "solidity": 0.2
             }
            },
            "type": "barpolar"
           }
          ],
          "carpet": [
           {
            "aaxis": {
             "endlinecolor": "#2a3f5f",
             "gridcolor": "white",
             "linecolor": "white",
             "minorgridcolor": "white",
             "startlinecolor": "#2a3f5f"
            },
            "baxis": {
             "endlinecolor": "#2a3f5f",
             "gridcolor": "white",
             "linecolor": "white",
             "minorgridcolor": "white",
             "startlinecolor": "#2a3f5f"
            },
            "type": "carpet"
           }
          ],
          "choropleth": [
           {
            "colorbar": {
             "outlinewidth": 0,
             "ticks": ""
            },
            "type": "choropleth"
           }
          ],
          "contour": [
           {
            "colorbar": {
             "outlinewidth": 0,
             "ticks": ""
            },
            "colorscale": [
             [
              0,
              "#0d0887"
             ],
             [
              0.1111111111111111,
              "#46039f"
             ],
             [
              0.2222222222222222,
              "#7201a8"
             ],
             [
              0.3333333333333333,
              "#9c179e"
             ],
             [
              0.4444444444444444,
              "#bd3786"
             ],
             [
              0.5555555555555556,
              "#d8576b"
             ],
             [
              0.6666666666666666,
              "#ed7953"
             ],
             [
              0.7777777777777778,
              "#fb9f3a"
             ],
             [
              0.8888888888888888,
              "#fdca26"
             ],
             [
              1,
              "#f0f921"
             ]
            ],
            "type": "contour"
           }
          ],
          "contourcarpet": [
           {
            "colorbar": {
             "outlinewidth": 0,
             "ticks": ""
            },
            "type": "contourcarpet"
           }
          ],
          "heatmap": [
           {
            "colorbar": {
             "outlinewidth": 0,
             "ticks": ""
            },
            "colorscale": [
             [
              0,
              "#0d0887"
             ],
             [
              0.1111111111111111,
              "#46039f"
             ],
             [
              0.2222222222222222,
              "#7201a8"
             ],
             [
              0.3333333333333333,
              "#9c179e"
             ],
             [
              0.4444444444444444,
              "#bd3786"
             ],
             [
              0.5555555555555556,
              "#d8576b"
             ],
             [
              0.6666666666666666,
              "#ed7953"
             ],
             [
              0.7777777777777778,
              "#fb9f3a"
             ],
             [
              0.8888888888888888,
              "#fdca26"
             ],
             [
              1,
              "#f0f921"
             ]
            ],
            "type": "heatmap"
           }
          ],
          "heatmapgl": [
           {
            "colorbar": {
             "outlinewidth": 0,
             "ticks": ""
            },
            "colorscale": [
             [
              0,
              "#0d0887"
             ],
             [
              0.1111111111111111,
              "#46039f"
             ],
             [
              0.2222222222222222,
              "#7201a8"
             ],
             [
              0.3333333333333333,
              "#9c179e"
             ],
             [
              0.4444444444444444,
              "#bd3786"
             ],
             [
              0.5555555555555556,
              "#d8576b"
             ],
             [
              0.6666666666666666,
              "#ed7953"
             ],
             [
              0.7777777777777778,
              "#fb9f3a"
             ],
             [
              0.8888888888888888,
              "#fdca26"
             ],
             [
              1,
              "#f0f921"
             ]
            ],
            "type": "heatmapgl"
           }
          ],
          "histogram": [
           {
            "marker": {
             "pattern": {
              "fillmode": "overlay",
              "size": 10,
              "solidity": 0.2
             }
            },
            "type": "histogram"
           }
          ],
          "histogram2d": [
           {
            "colorbar": {
             "outlinewidth": 0,
             "ticks": ""
            },
            "colorscale": [
             [
              0,
              "#0d0887"
             ],
             [
              0.1111111111111111,
              "#46039f"
             ],
             [
              0.2222222222222222,
              "#7201a8"
             ],
             [
              0.3333333333333333,
              "#9c179e"
             ],
             [
              0.4444444444444444,
              "#bd3786"
             ],
             [
              0.5555555555555556,
              "#d8576b"
             ],
             [
              0.6666666666666666,
              "#ed7953"
             ],
             [
              0.7777777777777778,
              "#fb9f3a"
             ],
             [
              0.8888888888888888,
              "#fdca26"
             ],
             [
              1,
              "#f0f921"
             ]
            ],
            "type": "histogram2d"
           }
          ],
          "histogram2dcontour": [
           {
            "colorbar": {
             "outlinewidth": 0,
             "ticks": ""
            },
            "colorscale": [
             [
              0,
              "#0d0887"
             ],
             [
              0.1111111111111111,
              "#46039f"
             ],
             [
              0.2222222222222222,
              "#7201a8"
             ],
             [
              0.3333333333333333,
              "#9c179e"
             ],
             [
              0.4444444444444444,
              "#bd3786"
             ],
             [
              0.5555555555555556,
              "#d8576b"
             ],
             [
              0.6666666666666666,
              "#ed7953"
             ],
             [
              0.7777777777777778,
              "#fb9f3a"
             ],
             [
              0.8888888888888888,
              "#fdca26"
             ],
             [
              1,
              "#f0f921"
             ]
            ],
            "type": "histogram2dcontour"
           }
          ],
          "mesh3d": [
           {
            "colorbar": {
             "outlinewidth": 0,
             "ticks": ""
            },
            "type": "mesh3d"
           }
          ],
          "parcoords": [
           {
            "line": {
             "colorbar": {
              "outlinewidth": 0,
              "ticks": ""
             }
            },
            "type": "parcoords"
           }
          ],
          "pie": [
           {
            "automargin": true,
            "type": "pie"
           }
          ],
          "scatter": [
           {
            "fillpattern": {
             "fillmode": "overlay",
             "size": 10,
             "solidity": 0.2
            },
            "type": "scatter"
           }
          ],
          "scatter3d": [
           {
            "line": {
             "colorbar": {
              "outlinewidth": 0,
              "ticks": ""
             }
            },
            "marker": {
             "colorbar": {
              "outlinewidth": 0,
              "ticks": ""
             }
            },
            "type": "scatter3d"
           }
          ],
          "scattercarpet": [
           {
            "marker": {
             "colorbar": {
              "outlinewidth": 0,
              "ticks": ""
             }
            },
            "type": "scattercarpet"
           }
          ],
          "scattergeo": [
           {
            "marker": {
             "colorbar": {
              "outlinewidth": 0,
              "ticks": ""
             }
            },
            "type": "scattergeo"
           }
          ],
          "scattergl": [
           {
            "marker": {
             "colorbar": {
              "outlinewidth": 0,
              "ticks": ""
             }
            },
            "type": "scattergl"
           }
          ],
          "scattermapbox": [
           {
            "marker": {
             "colorbar": {
              "outlinewidth": 0,
              "ticks": ""
             }
            },
            "type": "scattermapbox"
           }
          ],
          "scatterpolar": [
           {
            "marker": {
             "colorbar": {
              "outlinewidth": 0,
              "ticks": ""
             }
            },
            "type": "scatterpolar"
           }
          ],
          "scatterpolargl": [
           {
            "marker": {
             "colorbar": {
              "outlinewidth": 0,
              "ticks": ""
             }
            },
            "type": "scatterpolargl"
           }
          ],
          "scatterternary": [
           {
            "marker": {
             "colorbar": {
              "outlinewidth": 0,
              "ticks": ""
             }
            },
            "type": "scatterternary"
           }
          ],
          "surface": [
           {
            "colorbar": {
             "outlinewidth": 0,
             "ticks": ""
            },
            "colorscale": [
             [
              0,
              "#0d0887"
             ],
             [
              0.1111111111111111,
              "#46039f"
             ],
             [
              0.2222222222222222,
              "#7201a8"
             ],
             [
              0.3333333333333333,
              "#9c179e"
             ],
             [
              0.4444444444444444,
              "#bd3786"
             ],
             [
              0.5555555555555556,
              "#d8576b"
             ],
             [
              0.6666666666666666,
              "#ed7953"
             ],
             [
              0.7777777777777778,
              "#fb9f3a"
             ],
             [
              0.8888888888888888,
              "#fdca26"
             ],
             [
              1,
              "#f0f921"
             ]
            ],
            "type": "surface"
           }
          ],
          "table": [
           {
            "cells": {
             "fill": {
              "color": "#EBF0F8"
             },
             "line": {
              "color": "white"
             }
            },
            "header": {
             "fill": {
              "color": "#C8D4E3"
             },
             "line": {
              "color": "white"
             }
            },
            "type": "table"
           }
          ]
         },
         "layout": {
          "annotationdefaults": {
           "arrowcolor": "#2a3f5f",
           "arrowhead": 0,
           "arrowwidth": 1
          },
          "autotypenumbers": "strict",
          "coloraxis": {
           "colorbar": {
            "outlinewidth": 0,
            "ticks": ""
           }
          },
          "colorscale": {
           "diverging": [
            [
             0,
             "#8e0152"
            ],
            [
             0.1,
             "#c51b7d"
            ],
            [
             0.2,
             "#de77ae"
            ],
            [
             0.3,
             "#f1b6da"
            ],
            [
             0.4,
             "#fde0ef"
            ],
            [
             0.5,
             "#f7f7f7"
            ],
            [
             0.6,
             "#e6f5d0"
            ],
            [
             0.7,
             "#b8e186"
            ],
            [
             0.8,
             "#7fbc41"
            ],
            [
             0.9,
             "#4d9221"
            ],
            [
             1,
             "#276419"
            ]
           ],
           "sequential": [
            [
             0,
             "#0d0887"
            ],
            [
             0.1111111111111111,
             "#46039f"
            ],
            [
             0.2222222222222222,
             "#7201a8"
            ],
            [
             0.3333333333333333,
             "#9c179e"
            ],
            [
             0.4444444444444444,
             "#bd3786"
            ],
            [
             0.5555555555555556,
             "#d8576b"
            ],
            [
             0.6666666666666666,
             "#ed7953"
            ],
            [
             0.7777777777777778,
             "#fb9f3a"
            ],
            [
             0.8888888888888888,
             "#fdca26"
            ],
            [
             1,
             "#f0f921"
            ]
           ],
           "sequentialminus": [
            [
             0,
             "#0d0887"
            ],
            [
             0.1111111111111111,
             "#46039f"
            ],
            [
             0.2222222222222222,
             "#7201a8"
            ],
            [
             0.3333333333333333,
             "#9c179e"
            ],
            [
             0.4444444444444444,
             "#bd3786"
            ],
            [
             0.5555555555555556,
             "#d8576b"
            ],
            [
             0.6666666666666666,
             "#ed7953"
            ],
            [
             0.7777777777777778,
             "#fb9f3a"
            ],
            [
             0.8888888888888888,
             "#fdca26"
            ],
            [
             1,
             "#f0f921"
            ]
           ]
          },
          "colorway": [
           "#636efa",
           "#EF553B",
           "#00cc96",
           "#ab63fa",
           "#FFA15A",
           "#19d3f3",
           "#FF6692",
           "#B6E880",
           "#FF97FF",
           "#FECB52"
          ],
          "font": {
           "color": "#2a3f5f"
          },
          "geo": {
           "bgcolor": "white",
           "lakecolor": "white",
           "landcolor": "#E5ECF6",
           "showlakes": true,
           "showland": true,
           "subunitcolor": "white"
          },
          "hoverlabel": {
           "align": "left"
          },
          "hovermode": "closest",
          "mapbox": {
           "style": "light"
          },
          "paper_bgcolor": "white",
          "plot_bgcolor": "#E5ECF6",
          "polar": {
           "angularaxis": {
            "gridcolor": "white",
            "linecolor": "white",
            "ticks": ""
           },
           "bgcolor": "#E5ECF6",
           "radialaxis": {
            "gridcolor": "white",
            "linecolor": "white",
            "ticks": ""
           }
          },
          "scene": {
           "xaxis": {
            "backgroundcolor": "#E5ECF6",
            "gridcolor": "white",
            "gridwidth": 2,
            "linecolor": "white",
            "showbackground": true,
            "ticks": "",
            "zerolinecolor": "white"
           },
           "yaxis": {
            "backgroundcolor": "#E5ECF6",
            "gridcolor": "white",
            "gridwidth": 2,
            "linecolor": "white",
            "showbackground": true,
            "ticks": "",
            "zerolinecolor": "white"
           },
           "zaxis": {
            "backgroundcolor": "#E5ECF6",
            "gridcolor": "white",
            "gridwidth": 2,
            "linecolor": "white",
            "showbackground": true,
            "ticks": "",
            "zerolinecolor": "white"
           }
          },
          "shapedefaults": {
           "line": {
            "color": "#2a3f5f"
           }
          },
          "ternary": {
           "aaxis": {
            "gridcolor": "white",
            "linecolor": "white",
            "ticks": ""
           },
           "baxis": {
            "gridcolor": "white",
            "linecolor": "white",
            "ticks": ""
           },
           "bgcolor": "#E5ECF6",
           "caxis": {
            "gridcolor": "white",
            "linecolor": "white",
            "ticks": ""
           }
          },
          "title": {
           "x": 0.05
          },
          "xaxis": {
           "automargin": true,
           "gridcolor": "white",
           "linecolor": "white",
           "ticks": "",
           "title": {
            "standoff": 15
           },
           "zerolinecolor": "white",
           "zerolinewidth": 2
          },
          "yaxis": {
           "automargin": true,
           "gridcolor": "white",
           "linecolor": "white",
           "ticks": "",
           "title": {
            "standoff": 15
           },
           "zerolinecolor": "white",
           "zerolinewidth": 2
          }
         }
        },
        "title": {
         "text": "Distribuição Global do Women Empowerment Index (2022)"
        }
       }
      },
      "text/html": [
       "<div>                            <div id=\"7a0f3ffa-409e-4b81-bbe4-2852d80526fe\" class=\"plotly-graph-div\" style=\"height:525px; width:100%;\"></div>            <script type=\"text/javascript\">                require([\"plotly\"], function(Plotly) {                    window.PLOTLYENV=window.PLOTLYENV || {};                                    if (document.getElementById(\"7a0f3ffa-409e-4b81-bbe4-2852d80526fe\")) {                    Plotly.newPlot(                        \"7a0f3ffa-409e-4b81-bbe4-2852d80526fe\",                        [{\"coloraxis\":\"coloraxis\",\"geo\":\"geo\",\"hovertemplate\":\"Country=%{location}<br>WEI_2022=%{z}<extra></extra>\",\"locationmode\":\"country names\",\"locations\":[\"Australia\",\"Belgium\",\"Denmark\",\"Iceland\",\"Norway\",\"Sweden\",\"Austria\",\"Bulgaria\",\"Canada\",\"Croatia\",\"Czechia\",\"Estonia\",\"Finland\",\"France\",\"Germany\",\"Hungary\",\"Ireland\",\"Italy\",\"Latvia\",\"Lithuania\",\"Luxembourg\",\"Netherlands\",\"Poland\",\"Portugal\",\"Serbia\",\"Singapore\",\"Slovenia\",\"Spain\",\"Switzerland\",\"United Kingdom\",\"United States\",\"Albania\",\"Armenia\",\"Bolivia (Plurinational State of)\",\"Brazil\",\"Chile\",\"China\",\"Costa Rica\",\"Cyprus\",\"Dominican Republic\",\"Ecuador\",\"Greece\",\"Israel\",\"Jamaica\",\"Japan\",\"Malta\",\"Mauritius\",\"Moldova (Republic of)\",\"Mongolia\",\"Montenegro\",\"Namibia\",\"North Macedonia\",\"Peru\",\"Philippines\",\"Romania\",\"Slovakia\",\"South Africa\",\"Thailand\",\"United Arab Emirates\",\"Uruguay\",\"Viet Nam\",\"Bangladesh\",\"Belize\",\"Benin\",\"Bhutan\",\"Bosnia and Herzegovina\",\"Botswana\",\"Burkina Faso\",\"Burundi\",\"Cambodia\",\"Cameroon\",\"Colombia\",\"Congo (Democratic Republic of the)\",\"C\\u00f4te d'Ivoire\",\"Egypt\",\"El Salvador\",\"Gambia\",\"Ghana\",\"Guatemala\",\"Guinea\",\"Honduras\",\"India\",\"Indonesia\",\"Iran (Islamic Republic of)\",\"Iraq\",\"Jordan\",\"Kenya\",\"Lao People's Democratic Republic\",\"Lebanon\",\"Lesotho\",\"Liberia\",\"Malawi\",\"Maldives\",\"Mali\",\"Mexico\",\"Myanmar\",\"Nepal\",\"Niger\",\"Nigeria\",\"Pakistan\",\"Panama\",\"Paraguay\",\"Rwanda\",\"Senegal\",\"Sierra Leone\",\"Sri Lanka\",\"Tanzania (United Republic of)\",\"Togo\",\"Tunisia\",\"T\\u00fcrkiye\",\"Uganda\",\"Yemen\",\"Zambia\",\"Zimbabwe\"],\"name\":\"\",\"z\":[0.805,0.801,0.804,0.816,0.802,0.828,0.778,0.701,0.783,0.73,0.707,0.75,0.787,0.792,0.762,0.707,0.759,0.7,0.782,0.756,0.737,0.778,0.757,0.749,0.72,0.757,0.791,0.773,0.786,0.778,0.752,0.61,0.656,0.632,0.637,0.699,0.664,0.677,0.649,0.603,0.63,0.679,0.694,0.694,0.651,0.696,0.613,0.686,0.67,0.64,0.617,0.682,0.64,0.618,0.623,0.696,0.68,0.635,0.68,0.688,0.612,0.443,0.569,0.418,0.562,0.597,0.56,0.443,0.53,0.542,0.52,0.592,0.399,0.455,0.466,0.542,0.427,0.524,0.482,0.4,0.544,0.52,0.568,0.454,0.363,0.488,0.591,0.582,0.372,0.531,0.435,0.464,0.518,0.4,0.598,0.518,0.491,0.307,0.444,0.337,0.563,0.593,0.565,0.511,0.438,0.568,0.51,0.537,0.512,0.498,0.463,0.141,0.441,0.519],\"type\":\"choropleth\"}],                        {\"template\":{\"data\":{\"histogram2dcontour\":[{\"type\":\"histogram2dcontour\",\"colorbar\":{\"outlinewidth\":0,\"ticks\":\"\"},\"colorscale\":[[0.0,\"#0d0887\"],[0.1111111111111111,\"#46039f\"],[0.2222222222222222,\"#7201a8\"],[0.3333333333333333,\"#9c179e\"],[0.4444444444444444,\"#bd3786\"],[0.5555555555555556,\"#d8576b\"],[0.6666666666666666,\"#ed7953\"],[0.7777777777777778,\"#fb9f3a\"],[0.8888888888888888,\"#fdca26\"],[1.0,\"#f0f921\"]]}],\"choropleth\":[{\"type\":\"choropleth\",\"colorbar\":{\"outlinewidth\":0,\"ticks\":\"\"}}],\"histogram2d\":[{\"type\":\"histogram2d\",\"colorbar\":{\"outlinewidth\":0,\"ticks\":\"\"},\"colorscale\":[[0.0,\"#0d0887\"],[0.1111111111111111,\"#46039f\"],[0.2222222222222222,\"#7201a8\"],[0.3333333333333333,\"#9c179e\"],[0.4444444444444444,\"#bd3786\"],[0.5555555555555556,\"#d8576b\"],[0.6666666666666666,\"#ed7953\"],[0.7777777777777778,\"#fb9f3a\"],[0.8888888888888888,\"#fdca26\"],[1.0,\"#f0f921\"]]}],\"heatmap\":[{\"type\":\"heatmap\",\"colorbar\":{\"outlinewidth\":0,\"ticks\":\"\"},\"colorscale\":[[0.0,\"#0d0887\"],[0.1111111111111111,\"#46039f\"],[0.2222222222222222,\"#7201a8\"],[0.3333333333333333,\"#9c179e\"],[0.4444444444444444,\"#bd3786\"],[0.5555555555555556,\"#d8576b\"],[0.6666666666666666,\"#ed7953\"],[0.7777777777777778,\"#fb9f3a\"],[0.8888888888888888,\"#fdca26\"],[1.0,\"#f0f921\"]]}],\"heatmapgl\":[{\"type\":\"heatmapgl\",\"colorbar\":{\"outlinewidth\":0,\"ticks\":\"\"},\"colorscale\":[[0.0,\"#0d0887\"],[0.1111111111111111,\"#46039f\"],[0.2222222222222222,\"#7201a8\"],[0.3333333333333333,\"#9c179e\"],[0.4444444444444444,\"#bd3786\"],[0.5555555555555556,\"#d8576b\"],[0.6666666666666666,\"#ed7953\"],[0.7777777777777778,\"#fb9f3a\"],[0.8888888888888888,\"#fdca26\"],[1.0,\"#f0f921\"]]}],\"contourcarpet\":[{\"type\":\"contourcarpet\",\"colorbar\":{\"outlinewidth\":0,\"ticks\":\"\"}}],\"contour\":[{\"type\":\"contour\",\"colorbar\":{\"outlinewidth\":0,\"ticks\":\"\"},\"colorscale\":[[0.0,\"#0d0887\"],[0.1111111111111111,\"#46039f\"],[0.2222222222222222,\"#7201a8\"],[0.3333333333333333,\"#9c179e\"],[0.4444444444444444,\"#bd3786\"],[0.5555555555555556,\"#d8576b\"],[0.6666666666666666,\"#ed7953\"],[0.7777777777777778,\"#fb9f3a\"],[0.8888888888888888,\"#fdca26\"],[1.0,\"#f0f921\"]]}],\"surface\":[{\"type\":\"surface\",\"colorbar\":{\"outlinewidth\":0,\"ticks\":\"\"},\"colorscale\":[[0.0,\"#0d0887\"],[0.1111111111111111,\"#46039f\"],[0.2222222222222222,\"#7201a8\"],[0.3333333333333333,\"#9c179e\"],[0.4444444444444444,\"#bd3786\"],[0.5555555555555556,\"#d8576b\"],[0.6666666666666666,\"#ed7953\"],[0.7777777777777778,\"#fb9f3a\"],[0.8888888888888888,\"#fdca26\"],[1.0,\"#f0f921\"]]}],\"mesh3d\":[{\"type\":\"mesh3d\",\"colorbar\":{\"outlinewidth\":0,\"ticks\":\"\"}}],\"scatter\":[{\"fillpattern\":{\"fillmode\":\"overlay\",\"size\":10,\"solidity\":0.2},\"type\":\"scatter\"}],\"parcoords\":[{\"type\":\"parcoords\",\"line\":{\"colorbar\":{\"outlinewidth\":0,\"ticks\":\"\"}}}],\"scatterpolargl\":[{\"type\":\"scatterpolargl\",\"marker\":{\"colorbar\":{\"outlinewidth\":0,\"ticks\":\"\"}}}],\"bar\":[{\"error_x\":{\"color\":\"#2a3f5f\"},\"error_y\":{\"color\":\"#2a3f5f\"},\"marker\":{\"line\":{\"color\":\"#E5ECF6\",\"width\":0.5},\"pattern\":{\"fillmode\":\"overlay\",\"size\":10,\"solidity\":0.2}},\"type\":\"bar\"}],\"scattergeo\":[{\"type\":\"scattergeo\",\"marker\":{\"colorbar\":{\"outlinewidth\":0,\"ticks\":\"\"}}}],\"scatterpolar\":[{\"type\":\"scatterpolar\",\"marker\":{\"colorbar\":{\"outlinewidth\":0,\"ticks\":\"\"}}}],\"histogram\":[{\"marker\":{\"pattern\":{\"fillmode\":\"overlay\",\"size\":10,\"solidity\":0.2}},\"type\":\"histogram\"}],\"scattergl\":[{\"type\":\"scattergl\",\"marker\":{\"colorbar\":{\"outlinewidth\":0,\"ticks\":\"\"}}}],\"scatter3d\":[{\"type\":\"scatter3d\",\"line\":{\"colorbar\":{\"outlinewidth\":0,\"ticks\":\"\"}},\"marker\":{\"colorbar\":{\"outlinewidth\":0,\"ticks\":\"\"}}}],\"scattermapbox\":[{\"type\":\"scattermapbox\",\"marker\":{\"colorbar\":{\"outlinewidth\":0,\"ticks\":\"\"}}}],\"scatterternary\":[{\"type\":\"scatterternary\",\"marker\":{\"colorbar\":{\"outlinewidth\":0,\"ticks\":\"\"}}}],\"scattercarpet\":[{\"type\":\"scattercarpet\",\"marker\":{\"colorbar\":{\"outlinewidth\":0,\"ticks\":\"\"}}}],\"carpet\":[{\"aaxis\":{\"endlinecolor\":\"#2a3f5f\",\"gridcolor\":\"white\",\"linecolor\":\"white\",\"minorgridcolor\":\"white\",\"startlinecolor\":\"#2a3f5f\"},\"baxis\":{\"endlinecolor\":\"#2a3f5f\",\"gridcolor\":\"white\",\"linecolor\":\"white\",\"minorgridcolor\":\"white\",\"startlinecolor\":\"#2a3f5f\"},\"type\":\"carpet\"}],\"table\":[{\"cells\":{\"fill\":{\"color\":\"#EBF0F8\"},\"line\":{\"color\":\"white\"}},\"header\":{\"fill\":{\"color\":\"#C8D4E3\"},\"line\":{\"color\":\"white\"}},\"type\":\"table\"}],\"barpolar\":[{\"marker\":{\"line\":{\"color\":\"#E5ECF6\",\"width\":0.5},\"pattern\":{\"fillmode\":\"overlay\",\"size\":10,\"solidity\":0.2}},\"type\":\"barpolar\"}],\"pie\":[{\"automargin\":true,\"type\":\"pie\"}]},\"layout\":{\"autotypenumbers\":\"strict\",\"colorway\":[\"#636efa\",\"#EF553B\",\"#00cc96\",\"#ab63fa\",\"#FFA15A\",\"#19d3f3\",\"#FF6692\",\"#B6E880\",\"#FF97FF\",\"#FECB52\"],\"font\":{\"color\":\"#2a3f5f\"},\"hovermode\":\"closest\",\"hoverlabel\":{\"align\":\"left\"},\"paper_bgcolor\":\"white\",\"plot_bgcolor\":\"#E5ECF6\",\"polar\":{\"bgcolor\":\"#E5ECF6\",\"angularaxis\":{\"gridcolor\":\"white\",\"linecolor\":\"white\",\"ticks\":\"\"},\"radialaxis\":{\"gridcolor\":\"white\",\"linecolor\":\"white\",\"ticks\":\"\"}},\"ternary\":{\"bgcolor\":\"#E5ECF6\",\"aaxis\":{\"gridcolor\":\"white\",\"linecolor\":\"white\",\"ticks\":\"\"},\"baxis\":{\"gridcolor\":\"white\",\"linecolor\":\"white\",\"ticks\":\"\"},\"caxis\":{\"gridcolor\":\"white\",\"linecolor\":\"white\",\"ticks\":\"\"}},\"coloraxis\":{\"colorbar\":{\"outlinewidth\":0,\"ticks\":\"\"}},\"colorscale\":{\"sequential\":[[0.0,\"#0d0887\"],[0.1111111111111111,\"#46039f\"],[0.2222222222222222,\"#7201a8\"],[0.3333333333333333,\"#9c179e\"],[0.4444444444444444,\"#bd3786\"],[0.5555555555555556,\"#d8576b\"],[0.6666666666666666,\"#ed7953\"],[0.7777777777777778,\"#fb9f3a\"],[0.8888888888888888,\"#fdca26\"],[1.0,\"#f0f921\"]],\"sequentialminus\":[[0.0,\"#0d0887\"],[0.1111111111111111,\"#46039f\"],[0.2222222222222222,\"#7201a8\"],[0.3333333333333333,\"#9c179e\"],[0.4444444444444444,\"#bd3786\"],[0.5555555555555556,\"#d8576b\"],[0.6666666666666666,\"#ed7953\"],[0.7777777777777778,\"#fb9f3a\"],[0.8888888888888888,\"#fdca26\"],[1.0,\"#f0f921\"]],\"diverging\":[[0,\"#8e0152\"],[0.1,\"#c51b7d\"],[0.2,\"#de77ae\"],[0.3,\"#f1b6da\"],[0.4,\"#fde0ef\"],[0.5,\"#f7f7f7\"],[0.6,\"#e6f5d0\"],[0.7,\"#b8e186\"],[0.8,\"#7fbc41\"],[0.9,\"#4d9221\"],[1,\"#276419\"]]},\"xaxis\":{\"gridcolor\":\"white\",\"linecolor\":\"white\",\"ticks\":\"\",\"title\":{\"standoff\":15},\"zerolinecolor\":\"white\",\"automargin\":true,\"zerolinewidth\":2},\"yaxis\":{\"gridcolor\":\"white\",\"linecolor\":\"white\",\"ticks\":\"\",\"title\":{\"standoff\":15},\"zerolinecolor\":\"white\",\"automargin\":true,\"zerolinewidth\":2},\"scene\":{\"xaxis\":{\"backgroundcolor\":\"#E5ECF6\",\"gridcolor\":\"white\",\"linecolor\":\"white\",\"showbackground\":true,\"ticks\":\"\",\"zerolinecolor\":\"white\",\"gridwidth\":2},\"yaxis\":{\"backgroundcolor\":\"#E5ECF6\",\"gridcolor\":\"white\",\"linecolor\":\"white\",\"showbackground\":true,\"ticks\":\"\",\"zerolinecolor\":\"white\",\"gridwidth\":2},\"zaxis\":{\"backgroundcolor\":\"#E5ECF6\",\"gridcolor\":\"white\",\"linecolor\":\"white\",\"showbackground\":true,\"ticks\":\"\",\"zerolinecolor\":\"white\",\"gridwidth\":2}},\"shapedefaults\":{\"line\":{\"color\":\"#2a3f5f\"}},\"annotationdefaults\":{\"arrowcolor\":\"#2a3f5f\",\"arrowhead\":0,\"arrowwidth\":1},\"geo\":{\"bgcolor\":\"white\",\"landcolor\":\"#E5ECF6\",\"subunitcolor\":\"white\",\"showland\":true,\"showlakes\":true,\"lakecolor\":\"white\"},\"title\":{\"x\":0.05},\"mapbox\":{\"style\":\"light\"}}},\"geo\":{\"domain\":{\"x\":[0.0,1.0],\"y\":[0.0,1.0]},\"center\":{}},\"coloraxis\":{\"colorbar\":{\"title\":{\"text\":\"WEI_2022\"}},\"colorscale\":[[0.0,\"rgb(255,255,217)\"],[0.125,\"rgb(237,248,177)\"],[0.25,\"rgb(199,233,180)\"],[0.375,\"rgb(127,205,187)\"],[0.5,\"rgb(65,182,196)\"],[0.625,\"rgb(29,145,192)\"],[0.75,\"rgb(34,94,168)\"],[0.875,\"rgb(37,52,148)\"],[1.0,\"rgb(8,29,88)\"]]},\"legend\":{\"tracegroupgap\":0},\"title\":{\"text\":\"Distribui\\u00e7\\u00e3o Global do Women Empowerment Index (2022)\"}},                        {\"responsive\": true}                    ).then(function(){\n",
       "                            \n",
       "var gd = document.getElementById('7a0f3ffa-409e-4b81-bbe4-2852d80526fe');\n",
       "var x = new MutationObserver(function (mutations, observer) {{\n",
       "        var display = window.getComputedStyle(gd).display;\n",
       "        if (!display || display === 'none') {{\n",
       "            console.log([gd, 'removed!']);\n",
       "            Plotly.purge(gd);\n",
       "            observer.disconnect();\n",
       "        }}\n",
       "}});\n",
       "\n",
       "// Listen for the removal of the full notebook cells\n",
       "var notebookContainer = gd.closest('#notebook-container');\n",
       "if (notebookContainer) {{\n",
       "    x.observe(notebookContainer, {childList: true});\n",
       "}}\n",
       "\n",
       "// Listen for the clearing of the current output cell\n",
       "var outputEl = gd.closest('.output');\n",
       "if (outputEl) {{\n",
       "    x.observe(outputEl, {childList: true});\n",
       "}}\n",
       "\n",
       "                        })                };                });            </script>        </div>"
      ]
     },
     "metadata": {},
     "output_type": "display_data"
    }
   ],
   "source": [
    "import plotly.express as px\n",
    "\n",
    "fig = px.choropleth(\n",
    "    df,\n",
    "    locations=\"Country\",\n",
    "    locationmode=\"country names\",\n",
    "    color=\"WEI_2022\",\n",
    "    color_continuous_scale=\"YlGnBu\",\n",
    "    title=\"Distribuição Global do Women Empowerment Index (2022)\"\n",
    ")\n",
    "fig.show()"
   ]
  },
  {
   "cell_type": "markdown",
   "id": "0dfec92f",
   "metadata": {},
   "source": [
    "### 📝 Insights Principais\n",
    "- **Liderança**: [0.828] Países da Europa Ocidental e América do Norte exibem índices acima de **0.80**, indicando políticas consolidadas de igualdade de gênero.  \n",
    "- **Baixos índices**: [0.141] Regiões da África Subsaariana permanecem abaixo de **0.40**, evidenciando maiores desafios sociais e econômicos.  \n",
    "- **Tendência global**: A diferença entre as regiões mais e menos desenvolvidas revela oportunidades de cooperação internacional e investimento em programas de empoderamento feminino.\n"
   ]
  },
  {
   "cell_type": "code",
   "execution_count": null,
   "id": "f95e0bb3",
   "metadata": {},
   "outputs": [],
   "source": []
  }
 ],
 "metadata": {
  "kernelspec": {
   "display_name": "Python 3 (ipykernel)",
   "language": "python",
   "name": "python3"
  },
  "language_info": {
   "codemirror_mode": {
    "name": "ipython",
    "version": 3
   },
   "file_extension": ".py",
   "mimetype": "text/x-python",
   "name": "python",
   "nbconvert_exporter": "python",
   "pygments_lexer": "ipython3",
   "version": "3.11.5"
  }
 },
 "nbformat": 4,
 "nbformat_minor": 5
}
